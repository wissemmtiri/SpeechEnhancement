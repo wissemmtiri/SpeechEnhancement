{
 "cells": [
  {
   "cell_type": "code",
   "execution_count": 3,
   "metadata": {},
   "outputs": [],
   "source": [
    "import numpy as np\n",
    "import matplotlib.pyplot as plt\n",
    "import wave\n",
    "from scipy.linalg import toeplitz\n",
    "from scipy.io.wavfile import write"
   ]
  },
  {
   "cell_type": "code",
   "execution_count": 4,
   "metadata": {},
   "outputs": [],
   "source": [
    "def read_audio(path):\n",
    "    signal = wave.open(path, 'rb')\n",
    "    signal_data = signal.readframes(-1)\n",
    "    signal_data = np.frombuffer(signal_data, dtype='int16')\n",
    "    return signal_data, signal.getframerate()"
   ]
  },
  {
   "cell_type": "code",
   "execution_count": 36,
   "metadata": {},
   "outputs": [],
   "source": [
    "def prep(signal, P):\n",
    "    N = len(signal)\n",
    "    corr = np.correlate(signal, signal, mode='full')[N-1:]\n",
    "    corr = corr/(N-P+1)\n",
    "    corr_vec = corr[P:2*P]\n",
    "    R = toeplitz(corr_vec)\n",
    "    return R, corr_vec, corr"
   ]
  },
  {
   "cell_type": "code",
   "execution_count": 35,
   "metadata": {},
   "outputs": [],
   "source": [
    "def train(Rx, corr_vec):\n",
    "    wopt = np.linalg.inv(Rx) @ corr_vec\n",
    "    return wopt"
   ]
  },
  {
   "cell_type": "code",
   "execution_count": 45,
   "metadata": {},
   "outputs": [],
   "source": [
    "def process(signal, wopt):\n",
    "    N = len(signal)\n",
    "    y = np.zeros(N)\n",
    "    for i in range(P, N):\n",
    "        y[i] = wopt @ signal[i-P:i]\n",
    "    return y"
   ]
  },
  {
   "cell_type": "code",
   "execution_count": 47,
   "metadata": {},
   "outputs": [],
   "source": [
    "def export_audio(filename, signal, fs):\n",
    "    audio = signal.astype('int16')\n",
    "    write('./audio/'+filename+'.wav', fs, audio)\n",
    "    print('Audio exported successfully!')"
   ]
  },
  {
   "cell_type": "code",
   "execution_count": 5,
   "metadata": {},
   "outputs": [],
   "source": [
    "signal1, fs1 = read_audio('./audio/conv1.wav')\n",
    "signal2, fs2 = read_audio('./audio/conv73.wav')"
   ]
  },
  {
   "cell_type": "code",
   "execution_count": 12,
   "metadata": {},
   "outputs": [],
   "source": [
    "N = min(len(signal1), len(signal2))"
   ]
  },
  {
   "cell_type": "code",
   "execution_count": 14,
   "metadata": {},
   "outputs": [],
   "source": [
    "signal1 = signal1[:N]\n",
    "signal2 = signal2[:N]"
   ]
  },
  {
   "cell_type": "code",
   "execution_count": 15,
   "metadata": {},
   "outputs": [],
   "source": [
    "signal = signal1 + signal2"
   ]
  },
  {
   "cell_type": "code",
   "execution_count": 1,
   "metadata": {},
   "outputs": [],
   "source": [
    "P = 3"
   ]
  },
  {
   "cell_type": "code",
   "execution_count": 24,
   "metadata": {},
   "outputs": [],
   "source": [
    "Rd1, corr_vec1, corr1 = prep(signal1, P)\n",
    "Rd2, corr_vec2, corr2 = prep(signal2, P)\n",
    "Rx, corr_vec, corr = prep(signal, P)"
   ]
  },
  {
   "cell_type": "code",
   "execution_count": 34,
   "metadata": {},
   "outputs": [],
   "source": [
    "wopt1 = train(Rx, corr_vec1)\n",
    "wopt2 = train(Rx, corr_vec2)"
   ]
  },
  {
   "cell_type": "code",
   "execution_count": 44,
   "metadata": {},
   "outputs": [],
   "source": [
    "d1hat = process(signal, wopt1)\n",
    "d2hat = process(signal, wopt2)"
   ]
  },
  {
   "cell_type": "code",
   "execution_count": 48,
   "metadata": {},
   "outputs": [],
   "source": [
    "export_audio('d1hat', d1hat, fs1)\n",
    "export_audio('d2hat', d2hat, fs2)"
   ]
  }
 ],
 "metadata": {
  "kernelspec": {
   "display_name": "Python 3",
   "language": "python",
   "name": "python3"
  },
  "language_info": {
   "codemirror_mode": {
    "name": "ipython",
    "version": 3
   },
   "file_extension": ".py",
   "mimetype": "text/x-python",
   "name": "python",
   "nbconvert_exporter": "python",
   "pygments_lexer": "ipython3",
   "version": "3.9.13"
  }
 },
 "nbformat": 4,
 "nbformat_minor": 2
}
